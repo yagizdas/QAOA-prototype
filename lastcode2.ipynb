{
 "cells": [
  {
   "cell_type": "code",
   "execution_count": 1,
   "metadata": {},
   "outputs": [],
   "source": [
    "from qiskit_optimization import QuadraticProgram\n",
    "from qiskit_optimization.converters import QuadraticProgramToQubo\n",
    "from qiskit_optimization.algorithms import MinimumEigenOptimizer\n",
    "from qiskit_ibm_runtime.fake_provider import FakeAlmadenV2\n",
    "from qiskit.circuit.library import TwoLocal\n",
    "\n",
    "\n",
    "import numpy as np\n",
    "import pandas as pd\n",
    "from qiskit_algorithms.utils import algorithm_globals\n",
    "import networkx as nx\n",
    "from networkx.algorithms import bipartite\n",
    "\n",
    "import matplotlib.pyplot as plt\n",
    "\n",
    "import random\n",
    "\n",
    "from pyomo.environ import ConcreteModel, Var, Objective, Constraint, SolverFactory, Binary, maximize\n",
    "from scipy.optimize import minimize\n",
    "from itertools import combinations\n",
    "\n",
    "import qiskit\n",
    "from qiskit import QuantumCircuit, ClassicalRegister, QuantumRegister, transpile\n",
    "from qiskit.visualization import *\n",
    "from qiskit_aer import AerSimulator\n",
    "from qiskit_aer.noise import NoiseModel, depolarizing_error\n",
    "from qiskit.primitives import Estimator\n",
    "from qiskit.primitives import Sampler,  BackendSampler, BackendSamplerV2\n",
    "\n",
    "from qiskit_algorithms import QAOA, NumPyMinimumEigensolver\n",
    "from qiskit_algorithms.optimizers import COBYLA\n",
    "from qiskit.primitives import Estimator\n",
    "from qiskit_optimization.algorithms import MinimumEigenOptimizer\n",
    "from qiskit.circuit.library import QAOAAnsatz\n",
    "\n",
    "from qiskit.circuit.library import EfficientSU2\n",
    "\n",
    "from qiskit_algorithms.optimizers import SPSA\n",
    "\n",
    "from qiskit_algorithms import SamplingVQE\n",
    "from qiskit.primitives import Sampler\n",
    "from qiskit.quantum_info import SparsePauliOp\n",
    "from qiskit_algorithms import QAOA\n",
    "from qiskit_algorithms.optimizers import COBYLA\n"
   ]
  },
  {
   "cell_type": "code",
   "execution_count": 3,
   "metadata": {},
   "outputs": [
    {
     "name": "stdout",
     "output_type": "stream",
     "text": [
      "Here!\n",
      "Solution: fval=130.0, donor_0=1.0, donor_1=1.0, donor_2=1.0, donor_3=1.0, donor_4=1.0, recipient_0=1.0, recipient_1=1.0, recipient_2=1.0, recipient_3=1.0, recipient_4=1.0, status=SUCCESS\n",
      "Objective value: 130.0\n"
     ]
    }
   ],
   "source": [
    "n_donors = 5  # Number of donors\n",
    "n_recipients = 5  # Number of recipients\n",
    "weights = [\n",
    "    [10, 2, 1, 6, 8],  # Donor 0\n",
    "    [5, 9, 4, 9, 11],   # Donor 1\n",
    "    [7, 3, 2, 1, 8],  # Donor 2\n",
    "    [6, 8, 1, 3, 5],  # Donor 3\n",
    "    [1, 2, 5, 6, 7]    # Donor 4\n",
    "]  # Example weights\n",
    "\n",
    "qubo = QuadraticProgram()\n",
    "\n",
    "for i in range(n_donors):\n",
    "    qubo.binary_var(name=f\"donor_{i}\")\n",
    "\n",
    "for j in range(n_recipients):\n",
    "    qubo.binary_var(name=f\"recipient_{j}\")\n",
    "\n",
    "objective_coeffs = {}\n",
    "for i in range(n_donors):\n",
    "    for j in range(n_recipients):\n",
    "        objective_coeffs[(f\"donor_{i}\", f\"recipient_{j}\")] = weights[i][j]\n",
    "\n",
    "qubo.maximize(quadratic=objective_coeffs)\n",
    "\n",
    "backend = AerSimulator(max_parallel_shots=1)\n",
    "\n",
    "# Set up the optimizer\n",
    "optimizer = COBYLA()\n",
    "sampler = BackendSampler(backend=backend)\n",
    "\n",
    "# Set up the QAOA with the Estimator primitive\n",
    "estimator = Estimator()\n",
    "qaoa = QAOA(sampler=sampler, optimizer=optimizer, reps=4) \n",
    "qubo_to_qubo = QuadraticProgramToQubo()\n",
    "\n",
    "qubo_model = qubo_to_qubo.convert(qubo)\n",
    "\n",
    "minimum_eigen_optimizer = MinimumEigenOptimizer(qaoa)\n",
    "print(\"Here!\")\n",
    "result = minimum_eigen_optimizer.solve(qubo)\n",
    "\n",
    "# Extract results\n",
    "print(\"Solution:\", result)\n",
    "print(\"Objective value:\", result.fval)\n",
    "#result = qaoa.compute_minimum_eigenvalue(operator=ising[0])"
   ]
  },
  {
   "cell_type": "code",
   "execution_count": 4,
   "metadata": {},
   "outputs": [
    {
     "name": "stdout",
     "output_type": "stream",
     "text": [
      "Solution: fval=130.0, donor_0=1.0, donor_1=1.0, donor_2=1.0, donor_3=1.0, donor_4=1.0, recipient_0=1.0, recipient_1=1.0, recipient_2=1.0, recipient_3=1.0, recipient_4=1.0, status=SUCCESS\n",
      "Objective value: 130.0\n"
     ]
    }
   ],
   "source": [
    "# Extract results\n",
    "print(\"Solution:\", result)\n",
    "print(\"Objective value:\", result.fval)\n",
    "#result = qaoa.compute_minimum_eigenvalue(operator=ising[0])"
   ]
  }
 ],
 "metadata": {
  "kernelspec": {
   "display_name": "Python 3",
   "language": "python",
   "name": "python3"
  },
  "language_info": {
   "codemirror_mode": {
    "name": "ipython",
    "version": 3
   },
   "file_extension": ".py",
   "mimetype": "text/x-python",
   "name": "python",
   "nbconvert_exporter": "python",
   "pygments_lexer": "ipython3",
   "version": "3.11.9"
  }
 },
 "nbformat": 4,
 "nbformat_minor": 2
}
